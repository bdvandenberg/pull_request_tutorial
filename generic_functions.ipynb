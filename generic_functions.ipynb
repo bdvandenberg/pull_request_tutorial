{
 "cells": [
  {
   "cell_type": "markdown",
   "id": "future-advice",
   "metadata": {},
   "source": [
    "# Some nice Python functions"
   ]
  },
  {
   "cell_type": "markdown",
   "id": "solar-purse",
   "metadata": {},
   "source": [
    "## zip\n",
    "With zip, you can zip multiple arrays into a list of tuples. zip returns a zip element, which you can transform to a list using list()"
   ]
  },
  {
   "cell_type": "code",
   "execution_count": null,
   "id": "variable-recipe",
   "metadata": {},
   "outputs": [],
   "source": [
    "a = [1, 2, 3]\n",
    "b = [4, 5, 6]\n",
    "\n",
    "list(zip(a, b))"
   ]
  },
  {
   "cell_type": "code",
   "execution_count": null,
   "id": "coupled-danger",
   "metadata": {},
   "outputs": [],
   "source": [
    "for x, y in zip(a, b):\n",
    "    print(x, y)"
   ]
  },
  {
   "cell_type": "markdown",
   "id": "hollywood-aerospace",
   "metadata": {},
   "source": [
    "## map\n",
    "With map, you can apply a function to an iterable. map returns a map element, which you can transform to a list using list()"
   ]
  },
  {
   "cell_type": "code",
   "execution_count": null,
   "id": "visible-chosen",
   "metadata": {},
   "outputs": [],
   "source": [
    "def add_one(number):\n",
    "    return number + 1\n",
    "\n",
    "a = [1, 2, 3]\n",
    "\n",
    "list(map(add_one, a))"
   ]
  },
  {
   "cell_type": "markdown",
   "id": "selective-pillow",
   "metadata": {},
   "source": [
    "## filter\n",
    "With filter, you can filter an array using a predefined filter function. filter returns a filter element, which you can transform to a list using list()"
   ]
  },
  {
   "cell_type": "code",
   "execution_count": null,
   "id": "brilliant-train",
   "metadata": {},
   "outputs": [],
   "source": [
    "def test_filter(number):\n",
    "    if number <= 10:\n",
    "        return True\n",
    "    else:\n",
    "        return False"
   ]
  },
  {
   "cell_type": "code",
   "execution_count": null,
   "id": "cosmetic-swiss",
   "metadata": {},
   "outputs": [],
   "source": [
    "a = [1, 2, 7, 12, 5, 72, 8, 35, 34, 12, 9]\n",
    "\n",
    "list(filter(test_filter, a))"
   ]
  },
  {
   "cell_type": "markdown",
   "id": "found-formula",
   "metadata": {},
   "source": [
    "## break\n",
    "Break we all know, it breaks a loop:"
   ]
  },
  {
   "cell_type": "code",
   "execution_count": null,
   "id": "mobile-monday",
   "metadata": {},
   "outputs": [],
   "source": [
    "for i in [1, 2, 3]:\n",
    "    if i == 2:\n",
    "        break\n",
    "    print(i)\n",
    "print(\"end\")"
   ]
  },
  {
   "cell_type": "markdown",
   "id": "banner-somerset",
   "metadata": {},
   "source": [
    "## continue\n",
    "But did you know continue? It will skip the remaining part of the current loop, but continue with the next:"
   ]
  },
  {
   "cell_type": "code",
   "execution_count": null,
   "id": "fatal-grave",
   "metadata": {},
   "outputs": [],
   "source": [
    "for i in [1, 2, 3]:\n",
    "    if i == 2:\n",
    "        continue\n",
    "    print(i)\n",
    "print(\"end\")"
   ]
  },
  {
   "cell_type": "markdown",
   "id": "integral-integration",
   "metadata": {},
   "source": [
    "## Assignment 1\n",
    "Use the zip function to transform lists a and b to a dictionary with keys a and values b."
   ]
  },
  {
   "cell_type": "code",
   "execution_count": null,
   "id": "iraqi-soundtrack",
   "metadata": {},
   "outputs": [],
   "source": [
    "a = [1, 2, 3]\n",
    "b = [4, 5, 6]"
   ]
  },
  {
   "cell_type": "code",
   "execution_count": null,
   "id": "independent-cycling",
   "metadata": {},
   "outputs": [],
   "source": [
    "# part 1, use a for loop:\n",
    "dct = {}\n",
    "for key, value in ...\n",
    "    ... = value\n",
    "dct"
   ]
  },
  {
   "cell_type": "code",
   "execution_count": null,
   "id": "important-diagram",
   "metadata": {},
   "outputs": [],
   "source": [
    "# part 2, use only one line of code\n",
    "dct = ...\n",
    "dct"
   ]
  },
  {
   "cell_type": "code",
   "execution_count": null,
   "id": "balanced-criterion",
   "metadata": {},
   "outputs": [],
   "source": [
    "def add(a, b):\n",
    "    return a+b"
   ]
  },
  {
   "cell_type": "markdown",
   "id": "cooked-substance",
   "metadata": {},
   "source": [
    "## Assignment 2\n",
    "Complete the for-loop, so that it appends only even numbers to list x."
   ]
  },
  {
   "cell_type": "code",
   "execution_count": null,
   "id": "secret-short",
   "metadata": {},
   "outputs": [],
   "source": [
    "x = []\n",
    "for i in range(1, 100):\n",
    "    ...\n",
    "    x.append(i)\n",
    "x"
   ]
  },
  {
   "cell_type": "markdown",
   "id": "artificial-bahrain",
   "metadata": {},
   "source": [
    "## Assignment 3\n",
    "Create a filter that can filter out the even numbers and test it in the next cell."
   ]
  },
  {
   "cell_type": "code",
   "execution_count": null,
   "id": "packed-blend",
   "metadata": {},
   "outputs": [],
   "source": [
    "def odd_even_filter(number):\n",
    "    ..."
   ]
  },
  {
   "cell_type": "code",
   "execution_count": null,
   "id": "double-fellowship",
   "metadata": {},
   "outputs": [],
   "source": [
    "rng = list(range(1, 100))\n",
    "x = list(...)\n",
    "x"
   ]
  }
 ],
 "metadata": {
  "kernelspec": {
   "display_name": "Python 3.7.6 64-bit ('base': conda)",
   "language": "python",
   "name": "python37664bitbaseconda5295a49bd5ab4464bf0059178a389638"
  },
  "language_info": {
   "codemirror_mode": {
    "name": "ipython",
    "version": 3
   },
   "file_extension": ".py",
   "mimetype": "text/x-python",
   "name": "python",
   "nbconvert_exporter": "python",
   "pygments_lexer": "ipython3",
   "version": "3.7.10"
  }
 },
 "nbformat": 4,
 "nbformat_minor": 5
}

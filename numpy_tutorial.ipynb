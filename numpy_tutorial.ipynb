{
 "cells": [
  {
   "cell_type": "markdown",
   "id": "cubic-burke",
   "metadata": {},
   "source": [
    "# Numpy"
   ]
  },
  {
   "cell_type": "markdown",
   "id": "appointed-building",
   "metadata": {},
   "source": [
    "Numpy is the core library for scientific computing in Python. It provides a high-performance multidimensional array object, and tools for working with these arrays."
   ]
  },
  {
   "cell_type": "markdown",
   "id": "iraqi-addiction",
   "metadata": {},
   "source": [
    "To use Numpy, we first need to import the `numpy` package:"
   ]
  },
  {
   "cell_type": "code",
   "execution_count": null,
   "id": "julian-toyota",
   "metadata": {},
   "outputs": [],
   "source": [
    "import numpy as np"
   ]
  },
  {
   "cell_type": "markdown",
   "id": "future-plaza",
   "metadata": {},
   "source": [
    "## Arrays"
   ]
  },
  {
   "cell_type": "markdown",
   "id": "dynamic-toner",
   "metadata": {},
   "source": [
    "A numpy array is a grid of values, all of the same type, and is indexed by a tuple of nonnegative integers. The number of dimensions is the rank of the array; the shape of an array is a tuple of integers giving the size of the array along each dimension."
   ]
  },
  {
   "cell_type": "markdown",
   "id": "atomic-accordance",
   "metadata": {},
   "source": [
    "We can initialize numpy arrays from nested Python lists:"
   ]
  },
  {
   "cell_type": "code",
   "execution_count": null,
   "id": "stopped-decade",
   "metadata": {},
   "outputs": [],
   "source": [
    "# A rank 1 array\n",
    "a = np.array([1, 2, 3])\n",
    "print(a, type(a))"
   ]
  },
  {
   "cell_type": "markdown",
   "id": "composed-coalition",
   "metadata": {},
   "source": [
    "and access elements using square brackets:"
   ]
  },
  {
   "cell_type": "code",
   "execution_count": null,
   "id": "surface-spring",
   "metadata": {},
   "outputs": [],
   "source": [
    "a[1] = 0\n",
    "a"
   ]
  },
  {
   "cell_type": "code",
   "execution_count": null,
   "id": "effective-tiger",
   "metadata": {},
   "outputs": [],
   "source": [
    "a.shape"
   ]
  },
  {
   "cell_type": "code",
   "execution_count": null,
   "id": "linear-brisbane",
   "metadata": {},
   "outputs": [],
   "source": [
    "a[2]"
   ]
  },
  {
   "cell_type": "code",
   "execution_count": null,
   "id": "inner-immune",
   "metadata": {},
   "outputs": [],
   "source": [
    "# A rank 2 array\n",
    "b = np.array([[1, 2, 3], [4, 5, 6]])\n",
    "b"
   ]
  },
  {
   "cell_type": "code",
   "execution_count": null,
   "id": "enabling-fellowship",
   "metadata": {},
   "outputs": [],
   "source": [
    "b.shape"
   ]
  },
  {
   "cell_type": "code",
   "execution_count": null,
   "id": "occupational-forward",
   "metadata": {},
   "outputs": [],
   "source": [
    "b[0, 1]"
   ]
  },
  {
   "cell_type": "markdown",
   "id": "civil-violence",
   "metadata": {},
   "source": [
    "Numpy also provides many functions to create arrays:"
   ]
  },
  {
   "cell_type": "code",
   "execution_count": null,
   "id": "disciplinary-thompson",
   "metadata": {},
   "outputs": [],
   "source": [
    "np.arange(0, 10)"
   ]
  },
  {
   "cell_type": "code",
   "execution_count": null,
   "id": "optimum-revision",
   "metadata": {},
   "outputs": [],
   "source": [
    "a = np.zeros((2,2))  # Create an array of all zeros\n",
    "print(a)"
   ]
  },
  {
   "cell_type": "code",
   "execution_count": null,
   "id": "radio-lease",
   "metadata": {},
   "outputs": [],
   "source": [
    "b = np.ones((1,2))   # Create an array of all ones\n",
    "print(b)"
   ]
  },
  {
   "cell_type": "code",
   "execution_count": null,
   "id": "behind-classification",
   "metadata": {},
   "outputs": [],
   "source": [
    "c = np.full((2,2), 7) # Create a constant array\n",
    "print(c)"
   ]
  },
  {
   "cell_type": "code",
   "execution_count": null,
   "id": "weird-occasion",
   "metadata": {},
   "outputs": [],
   "source": [
    "d = np.random.random((2,2)) # Create an array filled with random values\n",
    "print(d)"
   ]
  },
  {
   "cell_type": "markdown",
   "id": "alone-survivor",
   "metadata": {},
   "source": [
    "Arrays can be flattened, resulting in a rank 1 array:"
   ]
  },
  {
   "cell_type": "code",
   "execution_count": null,
   "id": "known-monte",
   "metadata": {},
   "outputs": [],
   "source": [
    "d.flatten()"
   ]
  },
  {
   "cell_type": "markdown",
   "id": "major-passage",
   "metadata": {},
   "source": [
    "## Array operations"
   ]
  },
  {
   "cell_type": "markdown",
   "id": "human-evening",
   "metadata": {},
   "source": [
    "One difference between python lists and numpy arrays is the element-wise operations:"
   ]
  },
  {
   "cell_type": "code",
   "execution_count": null,
   "id": "personal-platinum",
   "metadata": {},
   "outputs": [],
   "source": [
    "a = [1, 2, 3]\n",
    "b = [4, 5, 6]"
   ]
  },
  {
   "cell_type": "code",
   "execution_count": null,
   "id": "peripheral-firewall",
   "metadata": {},
   "outputs": [],
   "source": [
    "# adding two basic python lists\n",
    "a + b"
   ]
  },
  {
   "cell_type": "code",
   "execution_count": null,
   "id": "challenging-wedding",
   "metadata": {},
   "outputs": [],
   "source": [
    "# adding two numpy arrays\n",
    "np.array(a) + np.array(b)"
   ]
  },
  {
   "cell_type": "markdown",
   "id": "associate-damage",
   "metadata": {},
   "source": [
    "Also other operations are done element-wise, such as cos, sin, tan, sqrt, exp, log, etc.."
   ]
  },
  {
   "cell_type": "code",
   "execution_count": null,
   "id": "computational-diagram",
   "metadata": {},
   "outputs": [],
   "source": [
    "np.sin(a)"
   ]
  },
  {
   "cell_type": "code",
   "execution_count": null,
   "id": "linear-banking",
   "metadata": {},
   "outputs": [],
   "source": [
    "np.exp(a)"
   ]
  },
  {
   "cell_type": "code",
   "execution_count": null,
   "id": "assured-addition",
   "metadata": {},
   "outputs": [],
   "source": [
    "np.sqrt(b)"
   ]
  },
  {
   "cell_type": "markdown",
   "id": "equivalent-product",
   "metadata": {},
   "source": [
    "### Assignment 1\n",
    "Multiply a and b element-wise without using numpy"
   ]
  },
  {
   "cell_type": "code",
   "execution_count": null,
   "id": "thick-zimbabwe",
   "metadata": {},
   "outputs": [],
   "source": [
    "# unfortunately this does not work\n",
    "c = a*b"
   ]
  },
  {
   "cell_type": "code",
   "execution_count": null,
   "id": "regular-riverside",
   "metadata": {},
   "outputs": [],
   "source": [
    "# create an empty list to store the results\n",
    "c = []\n",
    "\n",
    "# loop through and multiply elements and append the result to c\n",
    "for i in range(len(a)):\n",
    "    result = ...\n",
    "    c.append(result)\n",
    "\n",
    "print(c)"
   ]
  },
  {
   "cell_type": "markdown",
   "id": "vietnamese-roots",
   "metadata": {},
   "source": [
    "### Assignment 2\n",
    "Multiply a and b using numpy"
   ]
  },
  {
   "cell_type": "code",
   "execution_count": null,
   "id": "republican-jason",
   "metadata": {},
   "outputs": [],
   "source": [
    "d = ...\n",
    "\n",
    "print(d)"
   ]
  },
  {
   "cell_type": "markdown",
   "id": "developmental-wings",
   "metadata": {},
   "source": [
    "### Assignment 3\n",
    "Calculate the cross sectional area for pipes with outer diameters 10 to 100 millimeters with a 10 millimeter step (10, 20, 30 etc). The wall thickness is 20% of the outer diameter."
   ]
  },
  {
   "cell_type": "code",
   "execution_count": null,
   "id": "progressive-pierce",
   "metadata": {},
   "outputs": [],
   "source": [
    "outer = np.arange(10, 110, 10)\n",
    "...\n",
    "area = ...\n",
    "\n",
    "print(area)"
   ]
  },
  {
   "cell_type": "markdown",
   "id": "fundamental-lawyer",
   "metadata": {},
   "source": [
    "### Assignment 4\n",
    "Numpy arrays are also useful for calculating inner and outer products of vectors. It is also possible to do basic matrix computation.\n",
    "\n",
    "Using 3D coordinates as $\\{x, y, z\\}$, calculate the moment caused by 1 kg at the end of a 10 meter beam."
   ]
  },
  {
   "cell_type": "code",
   "execution_count": null,
   "id": "treated-victim",
   "metadata": {},
   "outputs": [],
   "source": [
    "# force\n",
    "F = np.array([0, 0, -9.81])\n",
    "# radius\n",
    "r = np.array([10, 0, 0])\n",
    "\n",
    "# calculate the moment using the cross product of F and r\n",
    "# np.something(F, r)\n",
    "# moment should be around the y-axis"
   ]
  },
  {
   "cell_type": "markdown",
   "id": "norman-paper",
   "metadata": {},
   "source": [
    "## Why this is good to know\n",
    "Numpy arrays can be found everywhere. For example the OrcFxAPI, pandas and xarray make use of them."
   ]
  },
  {
   "cell_type": "code",
   "execution_count": null,
   "id": "whole-pillow",
   "metadata": {},
   "outputs": [],
   "source": [
    "import pandas as pd"
   ]
  },
  {
   "cell_type": "code",
   "execution_count": null,
   "id": "irish-briefing",
   "metadata": {},
   "outputs": [],
   "source": [
    "df = pd.DataFrame([1, 2, 3], columns=['test'])\n",
    "print(type(df.test.values))\n",
    "print(df)"
   ]
  },
  {
   "cell_type": "code",
   "execution_count": null,
   "id": "communist-possible",
   "metadata": {},
   "outputs": [],
   "source": [
    "import xarray as xr"
   ]
  },
  {
   "cell_type": "code",
   "execution_count": null,
   "id": "compliant-valve",
   "metadata": {},
   "outputs": [],
   "source": [
    "ds = xr.Dataset({\"test\":[1, 2, 3]})\n",
    "print(type(ds.test.values))\n",
    "print(ds)"
   ]
  },
  {
   "cell_type": "code",
   "execution_count": null,
   "id": "furnished-electron",
   "metadata": {},
   "outputs": [],
   "source": [
    "import OrcFxAPI as ofx"
   ]
  },
  {
   "cell_type": "code",
   "execution_count": null,
   "id": "respective-puzzle",
   "metadata": {},
   "outputs": [],
   "source": [
    "model = ofx.Model()\n",
    "model.RunSimulation()\n",
    "elevation = model.environment.TimeHistory(\"Elevation\", 1, ofx.oeEnvironment(0, 0, 0))\n",
    "\n",
    "print(type(elevation))\n",
    "print(elevation)"
   ]
  },
  {
   "cell_type": "code",
   "execution_count": null,
   "id": "greenhouse-meditation",
   "metadata": {},
   "outputs": [],
   "source": []
  }
 ],
 "metadata": {
  "kernelspec": {
   "display_name": "Python 3",
   "language": "python",
   "name": "python3"
  },
  "language_info": {
   "codemirror_mode": {
    "name": "ipython",
    "version": 3
   },
   "file_extension": ".py",
   "mimetype": "text/x-python",
   "name": "python",
   "nbconvert_exporter": "python",
   "pygments_lexer": "ipython3",
   "version": "3.7.10"
  }
 },
 "nbformat": 4,
 "nbformat_minor": 5
}

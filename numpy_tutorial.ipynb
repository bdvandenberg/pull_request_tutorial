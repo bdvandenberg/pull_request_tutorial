{
 "cells": [
  {
   "cell_type": "markdown",
   "id": "difficult-storm",
   "metadata": {},
   "source": [
    "# Numpy"
   ]
  },
  {
   "cell_type": "markdown",
   "id": "sharing-momentum",
   "metadata": {},
   "source": [
    "Numpy is the core library for scientific computing in Python. It provides a high-performance multidimensional array object, and tools for working with these arrays."
   ]
  },
  {
   "cell_type": "markdown",
   "id": "theoretical-mineral",
   "metadata": {},
   "source": [
    "To use Numpy, we first need to import the `numpy` package:"
   ]
  },
  {
   "cell_type": "code",
   "execution_count": null,
   "id": "balanced-appendix",
   "metadata": {},
   "outputs": [],
   "source": [
    "import numpy as np"
   ]
  },
  {
   "cell_type": "markdown",
   "id": "united-palestinian",
   "metadata": {},
   "source": [
    "## Arrays"
   ]
  },
  {
   "cell_type": "markdown",
   "id": "macro-india",
   "metadata": {},
   "source": [
    "A numpy array is a grid of values, all of the same type, and is indexed by a tuple of nonnegative integers. The number of dimensions is the rank of the array; the shape of an array is a tuple of integers giving the size of the array along each dimension."
   ]
  },
  {
   "cell_type": "markdown",
   "id": "pleased-repair",
   "metadata": {},
   "source": [
    "We can initialize numpy arrays from nested Python lists:"
   ]
  },
  {
   "cell_type": "code",
   "execution_count": null,
   "id": "major-hungarian",
   "metadata": {},
   "outputs": [],
   "source": [
    "# A rank 1 array\n",
    "a = np.array([1, 2, 3])\n",
    "print(a, type(a))"
   ]
  },
  {
   "cell_type": "markdown",
   "id": "bright-farmer",
   "metadata": {},
   "source": [
    "and access elements using square brackets:"
   ]
  },
  {
   "cell_type": "code",
   "execution_count": null,
   "id": "chemical-tooth",
   "metadata": {},
   "outputs": [],
   "source": [
    "a[1] = 0\n",
    "a"
   ]
  },
  {
   "cell_type": "code",
   "execution_count": null,
   "id": "native-hacker",
   "metadata": {},
   "outputs": [],
   "source": [
    "a.shape"
   ]
  },
  {
   "cell_type": "code",
   "execution_count": null,
   "id": "overhead-hundred",
   "metadata": {},
   "outputs": [],
   "source": [
    "a[2]"
   ]
  },
  {
   "cell_type": "code",
   "execution_count": null,
   "id": "thirty-somewhere",
   "metadata": {},
   "outputs": [],
   "source": [
    "# A rank 2 array\n",
    "b = np.array([[1, 2, 3], [4, 5, 6]])\n",
    "b"
   ]
  },
  {
   "cell_type": "code",
   "execution_count": null,
   "id": "preceding-envelope",
   "metadata": {},
   "outputs": [],
   "source": [
    "b.shape"
   ]
  },
  {
   "cell_type": "code",
   "execution_count": null,
   "id": "efficient-indian",
   "metadata": {},
   "outputs": [],
   "source": [
    "b[0, 1]"
   ]
  },
  {
   "cell_type": "markdown",
   "id": "intellectual-horse",
   "metadata": {},
   "source": [
    "Numpy also provides many functions to create arrays:"
   ]
  },
  {
   "cell_type": "code",
   "execution_count": null,
   "id": "interracial-commonwealth",
   "metadata": {},
   "outputs": [],
   "source": [
    "np.arange(0, 10)"
   ]
  },
  {
   "cell_type": "code",
   "execution_count": null,
   "id": "operating-madagascar",
   "metadata": {},
   "outputs": [],
   "source": [
    "a = np.zeros((2,2))  # Create an array of all zeros\n",
    "print(a)"
   ]
  },
  {
   "cell_type": "code",
   "execution_count": null,
   "id": "undefined-island",
   "metadata": {},
   "outputs": [],
   "source": [
    "b = np.ones((1,2))   # Create an array of all ones\n",
    "print(b)"
   ]
  },
  {
   "cell_type": "code",
   "execution_count": null,
   "id": "cleared-payday",
   "metadata": {},
   "outputs": [],
   "source": [
    "c = np.full((2,2), 7) # Create a constant array\n",
    "print(c)"
   ]
  },
  {
   "cell_type": "code",
   "execution_count": null,
   "id": "considered-reason",
   "metadata": {},
   "outputs": [],
   "source": [
    "d = np.random.random((2,2)) # Create an array filled with random values\n",
    "print(d)"
   ]
  },
  {
   "cell_type": "markdown",
   "id": "collectible-penny",
   "metadata": {},
   "source": [
    "Arrays can be flattened, resulting in a rank 1 array:"
   ]
  },
  {
   "cell_type": "code",
   "execution_count": null,
   "id": "bored-professional",
   "metadata": {},
   "outputs": [],
   "source": [
    "d.flatten()"
   ]
  },
  {
   "cell_type": "markdown",
   "id": "changed-mozambique",
   "metadata": {},
   "source": [
    "## Array operations"
   ]
  },
  {
   "cell_type": "markdown",
   "id": "induced-stephen",
   "metadata": {},
   "source": [
    "One difference between python lists and numpy arrays is the element-wise operations:"
   ]
  },
  {
   "cell_type": "code",
   "execution_count": null,
   "id": "ethical-transsexual",
   "metadata": {},
   "outputs": [],
   "source": [
    "a = [1, 2, 3]\n",
    "b = [4, 5, 6]"
   ]
  },
  {
   "cell_type": "code",
   "execution_count": null,
   "id": "constitutional-colors",
   "metadata": {},
   "outputs": [],
   "source": [
    "# adding two basic python lists\n",
    "a + b"
   ]
  },
  {
   "cell_type": "code",
   "execution_count": null,
   "id": "popular-consensus",
   "metadata": {},
   "outputs": [],
   "source": [
    "# adding two numpy arrays\n",
    "np.array(a) + np.array(b)"
   ]
  },
  {
   "cell_type": "markdown",
   "id": "studied-traffic",
   "metadata": {},
   "source": [
    "Also other operations are done element-wise, such as cos, sin, tan, sqrt, exp, log, etc.."
   ]
  },
  {
   "cell_type": "code",
   "execution_count": null,
   "id": "binary-outreach",
   "metadata": {},
   "outputs": [],
   "source": [
    "np.sin(a)"
   ]
  },
  {
   "cell_type": "code",
   "execution_count": null,
   "id": "proper-arcade",
   "metadata": {},
   "outputs": [],
   "source": [
    "np.exp(a)"
   ]
  },
  {
   "cell_type": "code",
   "execution_count": null,
   "id": "modular-atlas",
   "metadata": {},
   "outputs": [],
   "source": [
    "np.sqrt(b)"
   ]
  },
  {
   "cell_type": "markdown",
   "id": "indie-academy",
   "metadata": {},
   "source": [
    "### Assignment 1\n",
    "Multiply a and b element-wise without using numpy"
   ]
  },
  {
   "cell_type": "code",
   "execution_count": null,
   "id": "brown-essence",
   "metadata": {},
   "outputs": [],
   "source": [
    "# unfortunately this does not work\n",
    "c = a*b"
   ]
  },
  {
   "cell_type": "code",
   "execution_count": null,
   "id": "bridal-collins",
   "metadata": {},
   "outputs": [],
   "source": [
    "# create an empty list to store the results\n",
    "c = []\n",
    "\n",
    "# loop through and multiply elements and append the result to c\n",
    "for i in range(len(a)):\n",
    "    result = ...\n",
    "    c.append(result)\n",
    "\n",
    "print(c)"
   ]
  },
  {
   "cell_type": "markdown",
   "id": "sustainable-acoustic",
   "metadata": {},
   "source": [
    "### Assignment 2\n",
    "Multiply a and b using numpy"
   ]
  },
  {
   "cell_type": "code",
   "execution_count": null,
   "id": "upper-handle",
   "metadata": {},
   "outputs": [],
   "source": [
    "d = ...\n",
    "\n",
    "print(d)"
   ]
  },
  {
   "cell_type": "markdown",
   "id": "realistic-mitchell",
   "metadata": {},
   "source": [
    "### Assignment 3\n",
    "Calculate the cross sectional area for pipes with outer diameters 10 to 100 millimeters with a 10 millimeter step (10, 20, 30 etc). The wall thickness is 20% of the outer diameter."
   ]
  },
  {
   "cell_type": "code",
   "execution_count": null,
   "id": "rubber-liverpool",
   "metadata": {},
   "outputs": [],
   "source": [
    "outer = np.arange(10, 110, 10)\n",
    "...\n",
    "area = ...\n",
    "\n",
    "print(area)"
   ]
  },
  {
   "cell_type": "code",
   "execution_count": null,
   "id": "duplicate-gazette",
   "metadata": {},
   "outputs": [],
   "source": []
  }
 ],
 "metadata": {
  "kernelspec": {
   "display_name": "Python 3.7.6 64-bit ('base': conda)",
   "language": "python",
   "name": "python37664bitbaseconda5295a49bd5ab4464bf0059178a389638"
  },
  "language_info": {
   "codemirror_mode": {
    "name": "ipython",
    "version": 3
   },
   "file_extension": ".py",
   "mimetype": "text/x-python",
   "name": "python",
   "nbconvert_exporter": "python",
   "pygments_lexer": "ipython3",
   "version": "3.7.10"
  }
 },
 "nbformat": 4,
 "nbformat_minor": 5
}

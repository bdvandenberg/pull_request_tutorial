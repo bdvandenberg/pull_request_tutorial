{
 "cells": [
  {
   "cell_type": "markdown",
   "id": "careful-montreal",
   "metadata": {},
   "source": [
    "# Pandas"
   ]
  },
  {
   "cell_type": "markdown",
   "id": "still-duncan",
   "metadata": {},
   "source": [
    "Pandas is a fast, powerful, flexible and easy to use open source data analysis and manipulation tool, built on top of the python programming language. It can be used to create DataFrames with rows and columns and contains many useful import and export functions."
   ]
  },
  {
   "cell_type": "code",
   "execution_count": null,
   "id": "respected-excess",
   "metadata": {},
   "outputs": [],
   "source": [
    "import pandas as pd"
   ]
  },
  {
   "cell_type": "code",
   "execution_count": null,
   "id": "liquid-lodging",
   "metadata": {},
   "outputs": [],
   "source": [
    "# Create empty Dataframe\n",
    "df = pd.DataFrame()\n",
    "\n",
    "print(df)"
   ]
  },
  {
   "cell_type": "code",
   "execution_count": null,
   "id": "healthy-mechanism",
   "metadata": {},
   "outputs": [],
   "source": [
    "# add values to the empty dataframe\n",
    "df[\"A\"] = [2, 1, 3]\n",
    "df[\"B\"] = [4, 5, 6]\n",
    "\n",
    "df"
   ]
  },
  {
   "cell_type": "markdown",
   "id": "stunning-empire",
   "metadata": {},
   "source": [
    "In the example dataframe above, you see:\n",
    "- Index, which if undefined automatically starts at 0 and increases when adding rows.\n",
    "- Column headers\n",
    "- Values\n",
    "\n",
    "You can extract these values from the dataframe"
   ]
  },
  {
   "cell_type": "code",
   "execution_count": null,
   "id": "floppy-messaging",
   "metadata": {},
   "outputs": [],
   "source": [
    "df.index"
   ]
  },
  {
   "cell_type": "code",
   "execution_count": null,
   "id": "effective-montana",
   "metadata": {},
   "outputs": [],
   "source": [
    "df.columns"
   ]
  },
  {
   "cell_type": "code",
   "execution_count": null,
   "id": "driven-nursery",
   "metadata": {},
   "outputs": [],
   "source": [
    "df.values"
   ]
  },
  {
   "cell_type": "markdown",
   "id": "double-voltage",
   "metadata": {},
   "source": [
    "## Selecting data\n",
    "You can use loc or iloc to select a row or value"
   ]
  },
  {
   "cell_type": "code",
   "execution_count": null,
   "id": "raised-assistant",
   "metadata": {},
   "outputs": [],
   "source": [
    "# First we rename the index such that it is not sorted\n",
    "df.index = [35, 17, 25]\n",
    "df"
   ]
  },
  {
   "cell_type": "code",
   "execution_count": null,
   "id": "hairy-portsmouth",
   "metadata": {},
   "outputs": [],
   "source": [
    "# Select the first row\n",
    "df.iloc[0]"
   ]
  },
  {
   "cell_type": "code",
   "execution_count": null,
   "id": "authorized-emerald",
   "metadata": {},
   "outputs": [],
   "source": [
    "# Select the last row\n",
    "df.iloc[-1]"
   ]
  },
  {
   "cell_type": "code",
   "execution_count": null,
   "id": "formed-helen",
   "metadata": {},
   "outputs": [],
   "source": [
    "# Select rows with index 35 and 25\n",
    "df.loc[[35, 25]]"
   ]
  },
  {
   "cell_type": "code",
   "execution_count": null,
   "id": "divided-martin",
   "metadata": {},
   "outputs": [],
   "source": [
    "# select index 17, column B\n",
    "df.loc[17, \"B\"]"
   ]
  },
  {
   "cell_type": "markdown",
   "id": "attempted-enemy",
   "metadata": {},
   "source": [
    "## Importing data from CSV\n",
    "Importing data from a CSV file is extremely easy with `pd.read_csv`. You can read all the possibilities in the documentation https://pandas.pydata.org/pandas-docs/stable/reference/api/pandas.read_csv.html"
   ]
  },
  {
   "cell_type": "code",
   "execution_count": null,
   "id": "urban-lecture",
   "metadata": {},
   "outputs": [],
   "source": [
    "hours = pd.read_csv(\"hours.csv\")\n",
    "\n",
    "hours"
   ]
  },
  {
   "cell_type": "markdown",
   "id": "sapphire-missile",
   "metadata": {},
   "source": [
    "### Assignment 1\n",
    "Now we see in the above dataframe that the default index is used, but we want the Name column as index. There are two ways to make this happen:\n",
    "1. use set_index (https://pandas.pydata.org/pandas-docs/stable/reference/api/pandas.DataFrame.set_index.html)\n",
    "2. add kwargs (key word arguments) to read_csv (https://pandas.pydata.org/pandas-docs/stable/reference/api/pandas.read_csv.html)\n",
    "\n",
    "Try both ways below"
   ]
  },
  {
   "cell_type": "code",
   "execution_count": null,
   "id": "comfortable-lodge",
   "metadata": {},
   "outputs": [],
   "source": [
    "# use set_index\n",
    "hours = hours.set_index(...)\n",
    "\n",
    "hours"
   ]
  },
  {
   "cell_type": "code",
   "execution_count": null,
   "id": "clinical-purpose",
   "metadata": {},
   "outputs": [],
   "source": [
    "# use read_csv with kwargs\n",
    "hours = pd.read_csv(...)\n",
    "\n",
    "hours"
   ]
  },
  {
   "cell_type": "markdown",
   "id": "comparable-surgeon",
   "metadata": {},
   "source": [
    "### Assignment 2\n",
    "Gabriel is not working here anymore. Remove his hours from the DataFrame."
   ]
  },
  {
   "cell_type": "code",
   "execution_count": null,
   "id": "diagnostic-underwear",
   "metadata": {},
   "outputs": [],
   "source": []
  },
  {
   "cell_type": "markdown",
   "id": "relative-insured",
   "metadata": {},
   "source": [
    "### Assignment 3\n",
    "Find the min, mean, max and standard deviation for the worked hours per week (so for each column)."
   ]
  },
  {
   "cell_type": "code",
   "execution_count": null,
   "id": "august-projector",
   "metadata": {},
   "outputs": [],
   "source": []
  },
  {
   "cell_type": "markdown",
   "id": "circular-pickup",
   "metadata": {},
   "source": [
    "### Assignment 4\n",
    "Find the min, mean, max and standard deviation for the worked hours per person (so for each row)."
   ]
  },
  {
   "cell_type": "code",
   "execution_count": null,
   "id": "accessory-stadium",
   "metadata": {},
   "outputs": [],
   "source": []
  },
  {
   "cell_type": "markdown",
   "id": "engaging-appearance",
   "metadata": {},
   "source": [
    "### Assignment 5\n",
    "Add a column for Week 14 with 0 hours for everybody."
   ]
  },
  {
   "cell_type": "code",
   "execution_count": null,
   "id": "neither-watch",
   "metadata": {},
   "outputs": [],
   "source": []
  },
  {
   "cell_type": "markdown",
   "id": "boolean-establishment",
   "metadata": {},
   "source": [
    "## Plotting with pandas\n",
    "Pandas has quite some plotting functions built in. These are based on matplotlib and can be called using DataFrame.plot (https://pandas.pydata.org/pandas-docs/stable/reference/api/pandas.DataFrame.plot.html)"
   ]
  },
  {
   "cell_type": "markdown",
   "id": "declared-cheese",
   "metadata": {},
   "source": [
    "### Assignment 6\n",
    "Create a bar plot with names on the x-axis and hours worked on the y-axis."
   ]
  },
  {
   "cell_type": "code",
   "execution_count": null,
   "id": "unexpected-bachelor",
   "metadata": {},
   "outputs": [],
   "source": []
  },
  {
   "cell_type": "markdown",
   "id": "functional-bacon",
   "metadata": {},
   "source": [
    "### Assignment 7\n",
    "Create a pie chart for Week 12. Disable the legend."
   ]
  },
  {
   "cell_type": "code",
   "execution_count": null,
   "id": "supreme-canadian",
   "metadata": {},
   "outputs": [],
   "source": []
  }
 ],
 "metadata": {
  "kernelspec": {
   "display_name": "Python 3.7.6 64-bit ('base': conda)",
   "language": "python",
   "name": "python37664bitbaseconda5295a49bd5ab4464bf0059178a389638"
  },
  "language_info": {
   "codemirror_mode": {
    "name": "ipython",
    "version": 3
   },
   "file_extension": ".py",
   "mimetype": "text/x-python",
   "name": "python",
   "nbconvert_exporter": "python",
   "pygments_lexer": "ipython3",
   "version": "3.7.10"
  }
 },
 "nbformat": 4,
 "nbformat_minor": 5
}
